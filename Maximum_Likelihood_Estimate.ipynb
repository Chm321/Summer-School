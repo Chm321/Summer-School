{
 "cells": [
  {
   "cell_type": "markdown",
   "metadata": {},
   "source": [
    "# Maximum Likelihood Estimate(MLE) 最大似然估计"
   ]
  },
  {
   "cell_type": "markdown",
   "metadata": {},
   "source": [
    "Name: [Your name]\n"
   ]
  },
  {
   "cell_type": "markdown",
   "metadata": {},
   "source": [
    "<script type=\"text/javascript\" src=\"http://cdn.mathjax.org/mathjax/latest/MathJax.js?config=default\"></script><font size=4>\n",
    "\n",
    "1.设总体概率函数如下, $x_1, \\dots ,x_n$是样本, 试求未知参数的最大似然估计.\n",
    "\n",
    "(1) $p(x; \\theta)=\\sqrt{\\theta}x^{\\sqrt{\\theta}-1}, 0<x<1, \\theta>0$;\n",
    "\n",
    "(2) $p(x; \\theta)=\\theta c^{\\theta}x^{-(\\theta+1)}, x>c, c>0, \\theta>1$;\n",
    "\n",
    "\n",
    "\n",
    "\n",
    "\n",
    "</font>"
   ]
  },
  {
   "cell_type": "markdown",
   "metadata": {},
   "source": [
    "解:(1)$x_1, \\dots ,x_n$这批观测值发生的概率L(p)=$P(x_1;p)P(x_2;p) \\cdots P(x_n;p)\n",
    "     =\\sqrt{\\theta}x_1^{\\sqrt{\\theta}-1}\\sqrt{\\theta}x_2^{\\sqrt{\\theta}-1} \\cdots \\sqrt{\\theta}x_n^{\\sqrt{\\theta}-1}={\\theta}^{n/2}{(x_1x_2 \\cdots x_n)}^{\\sqrt{\\theta}-1}$\n",
    "    \n",
    "   对上述求导，令其为零，即$ \\qquad $ $\\frac{n}{2}{\\theta}^{n/2-1}{(x_1x_2 \\cdots x_n)}^{\\sqrt{\\theta}-1}+{\\theta}^{n/2}{(x_1x_2 \\cdots x_n)}^{\\sqrt{\\theta}-1} \\ln(x_1x_2 \\cdots x_n)=0$  \n",
    "   \n",
    "   得：$\\qquad \\theta=-\\frac{2}{n} \\ln(x_1x_2 \\cdots x_n)$\n",
    "   \n",
    "   \n",
    "   (2)$x_1, \\dots ,x_n$这批观测值发生的概率L(p)=$P(x_1;p)P(x_2;p) \\cdots P(x_n;p)\n",
    "     =\\theta c^{\\theta}x_1^{-(\\theta+1)}\\theta c^{\\theta}x_2^{-(\\theta+1)} \\cdots \\theta c^{\\theta}x_n^{-(\\theta+1)}=\\theta^n c^{n\\theta}(x_1x_2 \\cdots x_n)^{-(\\theta+1)}$\n",
    "    \n",
    "   对上述求导，令其为零，即$ \\qquad $ $n\\theta^{n-1} c^{n\\theta}(x_1x_2 \\cdots x_n)^{-(\\theta+1)}+n\\theta^n c^{n\\theta} \\ln c (x_1x_2 \\cdots x_n)^{-(\\theta+1)}-\\theta^n c^{n\\theta}(x_1x_2 \\cdots x_n)^{-(\\theta+1)}\\ln (x_1x_2 \\cdots x_n)=0$  \n",
    "   \n",
    "   得：$\\qquad \\theta=-\\frac{n}{\\ln(\\frac{c^n}{x_1x_2 \\cdots x_n})} $"
   ]
  },
  {
   "cell_type": "markdown",
   "metadata": {},
   "source": [
    "<script type=\"text/javascript\" src=\"http://cdn.mathjax.org/mathjax/latest/MathJax.js?config=default\"></script><font size=4>\n",
    "\n",
    "2.假如有一个罐子, 里面有黑白两种颜色的球, 数目多少不知, 两种颜色的比例也不知. 我们想知道罐中白球和黑球的比例, 但我们不能把罐中的球全部拿出来数(球太多了, 耽误我上王者). 现在我们可以进行100次实验, 每次实验都拿出10个球, 记录下白球的数量. 假设这100次实验都相与独立的, 请问罐中白球所占的比例最有可能是多少? 实验的数据如下:\n",
    "\n",
    "\n",
    "| 拿出白球的数量 | 0 | 1 | 2 | 3 | 4 | 5 | 6 | 7 | 8 | 9 | 10 |\n",
    "|:----------------:|:-:|:-:|:-:|:-:|:-:|:-:|:-:|:-:|:-:|:-:|:--:|\n",
    "| 实验次数      | 0 | 1 | 6 | 7 | 23 | 26 | 21 | 12 | 3 | 1 | 0 |\n",
    "\n",
    "tips: 变量X为每次实验中拿出白球的个数, 且X服从二项分布Bin(x|10, p).\n",
    "\n",
    "\n",
    "</font>"
   ]
  },
  {
   "cell_type": "markdown",
   "metadata": {},
   "source": [
    "解:这批观测值发生的概率L(p)=$B(x_1=0|10,p)B(x_2=1|10,p) \\cdots B(x_11=10|10,p)\n",
    "     =(1-p)^{10}[C^{1}_{10}p(1-p)^{9}][C^{2}_{10}p^{2}(1-p)^{8}]^6[C^{3}_{10}p^3(1-p)^{7}]^{7}[C^{4}_{10}p^4(1-p)^{6}]^{23}[C^{5}_{10}p^5(1-p)^{5}]^{26}[C^{6}_{10}p^6(1-p)^{4}]^{21}[C^{7}_{10}p^7(1-p)^{3}]^{12}[C^{8}_{10}p^8(1-p)^{2}]^3[C^{9}_{10}p^9(1-p)] [C^{10}_{10}p^{10}]$\n",
    "    \n",
    "   对上述求导，令其为零，即$ \\qquad 499{(p-p^2)}^{498}(1-2p)(1-p)^{12}-12{(p-p^2)}^{499}(1-p)^{11}=0$  $\\qquad 得： p=\\frac12$\n",
    "  "
   ]
  },
  {
   "cell_type": "markdown",
   "metadata": {},
   "source": [
    "遇到不会输入的数学符号, 可以参考《LATEX数学符号表.pdf》文献中的说明, Markdown的公式输入与Latex相类似, 现在多掌握一下Markdown的公式输入, 对你以后的Latex写作是很有帮助."
   ]
  },
  {
   "cell_type": "markdown",
   "metadata": {},
   "source": [
    "参考文献:\n",
    "\n",
    "[1]茆诗松, 程依明, 濮晓龙, 等. 概率论与数理统计教程 (第二版). 北京: 高等教育出版社, 2011."
   ]
  },
  {
   "cell_type": "code",
   "execution_count": null,
   "metadata": {
    "collapsed": true
   },
   "outputs": [],
   "source": []
  },
  {
   "cell_type": "markdown",
   "metadata": {},
   "source": [
    "如果你有什么疑问或者收获, 你可以在这里记录下来.\n",
    "###"
   ]
  },
  {
   "cell_type": "code",
   "execution_count": null,
   "metadata": {
    "collapsed": true
   },
   "outputs": [],
   "source": []
  }
 ],
 "metadata": {
  "kernelspec": {
   "display_name": "Python 3",
   "language": "python",
   "name": "python3"
  },
  "language_info": {
   "codemirror_mode": {
    "name": "ipython",
    "version": 3
   },
   "file_extension": ".py",
   "mimetype": "text/x-python",
   "name": "python",
   "nbconvert_exporter": "python",
   "pygments_lexer": "ipython3",
   "version": "3.6.1"
  }
 },
 "nbformat": 4,
 "nbformat_minor": 2
}
